{
 "cells": [
  {
   "cell_type": "code",
   "execution_count": 13,
   "metadata": {},
   "outputs": [
    {
     "name": "stdout",
     "output_type": "stream",
     "text": [
      "Overwriting streamlitapp.py\n"
     ]
    }
   ],
   "source": [
    "%%writefile streamlitapp.py\n",
    "\n",
    "import streamlit as st\n",
    "import geopandas as gpd\n",
    "import pandas as pd\n",
    "import plotly.express as px\n",
    "\n",
    "st.set_page_config(\n",
    "    page_title='Zobrazení dat o počasí', \n",
    "    page_icon=None, \n",
    "    layout='centered', \n",
    "    initial_sidebar_state='expanded')\n",
    "\n",
    "\n",
    "st.sidebar.title(\"Proměnné\")\n",
    "st.title(\"Obce ČR\")\n",
    "sel_1 = st.sidebar.selectbox(\n",
    "    'Vyberte proměnnou, kterou chcete zobrazit:',\n",
    "    options=['Maximální teplota (°C)',\n",
    "       'Minimální teplota (°C)', 'Náraz větru (km/h)', 'Srážky (mm)',\n",
    "       'Sněhová pokrývka (cm)', 'Sluneční svit (hod)', 'Nejvyšší tlak (hPa)',\n",
    "       'Nejvyšší vlhkost (%)'],\n",
    "    key='selectbox_1')\n",
    "\n",
    "import glob\n",
    "data = glob.glob(\"data_final/df_*\")\n",
    "dat_available=[]\n",
    "for dat in data:\n",
    "    dat_available.append(dat[14:24])\n",
    "\n",
    "sel_2 = st.sidebar.selectbox(\n",
    "    'Vyberte datum, které chcete zobrazit:',\n",
    "    options=dat_available,\n",
    "    key='selectbox_2')\n",
    "\n",
    "from datetime import date\n",
    "d = st.sidebar.date_input(\n",
    "     \"Datum, které chcete stáhnout:\",\n",
    "     date(2021, 12, 24),\n",
    "     min_value = date(2020,1,1),\n",
    "     max_value = date(2022,1,1))\n",
    "\n",
    "if st.sidebar.button('Stáhnout data', key='button_1'):\n",
    "    from scraper import DataScraper\n",
    "    from processor import DataProcessor\n",
    "    scraper = DataScraper()\n",
    "    raw_df_klima, raw_df_soukr = scraper.stahnout_data_o_pocasi(str(d))\n",
    "    processor = DataProcessor()\n",
    "    df_klima, df_soukr, df = processor.zpracovat_data_o_pocasi(raw_df_klima, raw_df_soukr)\n",
    "    processor.spocitat_vzdalenosti_mezi_obcemi_a_finalizovat_df(df_klima, df_soukr, df)\n",
    "\n",
    "if st.sidebar.button('Načíst nově stažená data', key='button_2'):\n",
    "    pass\n",
    "\n",
    "poly_cze = gpd.read_file('data/poly_cze.shp')\n",
    "poly_cze = poly_cze.set_index(\"kod\")\n",
    "df = pd.read_csv(f\"data_final/df_{sel_2}.csv\", index_col=\"kod\")\n",
    "poly_final = poly_cze.merge(df, how=\"inner\", left_index=True, right_index=True)\n",
    "\n",
    "fig = px.choropleth(poly_final,\n",
    "                geojson=poly_final.geometry,\n",
    "                locations=poly_final.index,\n",
    "                color=sel_1,\n",
    "                custom_data = [\"nazev_obec\",'Kraj', 'Datum','OBEC_ORG_NAZEV',\n",
    "                                'OBEC_ORG_ULICE', 'OBEC_ORG_PSC','nejblizsi_stanice_vzd', 'Stanice'],\n",
    "                projection=\"mercator\",\n",
    "                width=1000)\n",
    "fig.update_layout(margin=dict(l=0, r=0, t=0, b=0))\n",
    "fig.update_geos(lataxis_range=[48.5,51.1], lonaxis_range=[12,19], visible=False)\n",
    "\n",
    "fig.update_traces(\n",
    "    hovertemplate=\"<br>\".join([\n",
    "        \"<b>%{customdata[0]}</b>\",\n",
    "        \" \",\n",
    "        \"   Kraj: %{customdata[1]}\",\n",
    "        \"   Datum: %{customdata[2]}\",\n",
    "        \" \",\n",
    "        \"<b>Administrativní info o obci:</b>\",\n",
    "        \" \",\n",
    "        \"   Obecní úřad: %{customdata[3]}\",\n",
    "        \"   %{customdata[4]}, %{customdata[5]}\",\n",
    "        \" \",\n",
    "        \"<b>Nejbližší meteostanice</b>\", \n",
    "        \"   %{customdata[7]}\",\n",
    "        \"   Vzdálenost: %{customdata[6]} km\"\n",
    "    ])\n",
    ")\n",
    "\n",
    "st.plotly_chart(fig, use_container_width=True)"
   ]
  },
  {
   "cell_type": "code",
   "execution_count": 3,
   "metadata": {},
   "outputs": [
    {
     "name": "stdout",
     "output_type": "stream",
     "text": [
      "^C\n"
     ]
    }
   ],
   "source": [
    "!streamlit run streamlitapp.py"
   ]
  }
 ],
 "metadata": {
  "interpreter": {
   "hash": "8dbbfaeff6118be6462b6d0deca908399fcb85ced3356986c5b55d8b9bf61ebb"
  },
  "kernelspec": {
   "display_name": "Python 3.8.5 64-bit ('__semestralka__': venv)",
   "language": "python",
   "name": "python3"
  },
  "language_info": {
   "codemirror_mode": {
    "name": "ipython",
    "version": 3
   },
   "file_extension": ".py",
   "mimetype": "text/x-python",
   "name": "python",
   "nbconvert_exporter": "python",
   "pygments_lexer": "ipython3",
   "version": "3.8.5"
  },
  "orig_nbformat": 4
 },
 "nbformat": 4,
 "nbformat_minor": 2
}
