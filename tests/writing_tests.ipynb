{
 "cells": [
  {
   "cell_type": "code",
   "execution_count": 6,
   "metadata": {},
   "outputs": [],
   "source": [
    "import glob\n"
   ]
  },
  {
   "cell_type": "code",
   "execution_count": 12,
   "metadata": {},
   "outputs": [
    {
     "name": "stdout",
     "output_type": "stream",
     "text": [
      "['test_pokus.py', 'writing_tests.ipynb', '__pycache__']\n"
     ]
    }
   ],
   "source": [
    "print(glob.glob(\"*\"))"
   ]
  },
  {
   "cell_type": "code",
   "execution_count": null,
   "metadata": {},
   "outputs": [],
   "source": [
    "%%writefile tests/test_pokus.py \n",
    "\n",
    "\n",
    "def test_sth():\n",
    "  # the simplest test\n",
    "  # expectation\n",
    "  expected = 3\n",
    "  # real result\n",
    "  result = 1+2\n",
    "  # comparison\n",
    "  assert expected == result"
   ]
  }
 ],
 "metadata": {
  "interpreter": {
   "hash": "8dbbfaeff6118be6462b6d0deca908399fcb85ced3356986c5b55d8b9bf61ebb"
  },
  "kernelspec": {
   "display_name": "Python 3.8.5 64-bit ('__semestralka__': venv)",
   "language": "python",
   "name": "python3"
  },
  "language_info": {
   "codemirror_mode": {
    "name": "ipython",
    "version": 3
   },
   "file_extension": ".py",
   "mimetype": "text/x-python",
   "name": "python",
   "nbconvert_exporter": "python",
   "pygments_lexer": "ipython3",
   "version": "3.8.5"
  },
  "orig_nbformat": 4
 },
 "nbformat": 4,
 "nbformat_minor": 2
}
