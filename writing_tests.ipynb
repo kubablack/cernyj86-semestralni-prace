{
 "cells": [
  {
   "cell_type": "code",
   "execution_count": 16,
   "metadata": {},
   "outputs": [
    {
     "name": "stdout",
     "output_type": "stream",
     "text": [
      "Writing test_pocet_datasetu.py\n"
     ]
    }
   ],
   "source": [
    "%%writefile test_pocet_datasetu.py \n",
    "\n",
    "def test_pocet():\n",
    "  import glob\n",
    "  datasety = len(glob.glob(\"data_final/df_*\"))\n",
    "  \n",
    "  assert datasety > 0"
   ]
  },
  {
   "cell_type": "code",
   "execution_count": 15,
   "metadata": {},
   "outputs": [
    {
     "name": "stdout",
     "output_type": "stream",
     "text": [
      "Writing test_scraper_output.py\n"
     ]
    }
   ],
   "source": [
    "%%writefile test_scraper_output.py \n",
    "import pytest\n",
    "from scraper import DataScraper\n",
    "scraper = DataScraper()\n",
    "raw_df_klima, raw_df_soukr = scraper.stahnout_data_o_pocasi(\"2021-01-01\") \n",
    "\n",
    "def test_scraper_output():\n",
    "       \n",
    "    assert raw_df_klima.shape[0] > 0\n",
    "    assert raw_df_klima.shape[1] > 0\n",
    "    assert raw_df_soukr.shape[0] > 0\n",
    "    assert raw_df_soukr.shape[1] > 0"
   ]
  },
  {
   "cell_type": "code",
   "execution_count": 22,
   "metadata": {},
   "outputs": [
    {
     "name": "stdout",
     "output_type": "stream",
     "text": [
      "Overwriting test_data_processor.py\n"
     ]
    }
   ],
   "source": [
    "%%writefile test_data_processor.py \n",
    "import pytest\n",
    "from scraper import DataScraper\n",
    "from processor import DataProcessor\n",
    "import pandas as pd\n",
    "scraper = DataScraper()\n",
    "raw_df_klima, raw_df_soukr = scraper.stahnout_data_o_pocasi(\"2021-01-01\")\n",
    "processor = DataProcessor()\n",
    "df_klima, df_soukr, df = processor.zpracovat_data_o_pocasi(raw_df_klima, raw_df_soukr)\n",
    "processor.spocitat_vzdalenosti_mezi_obcemi_a_finalizovat_df(df_klima, df_soukr, df)\n",
    "df = pd.read_csv(\"data_final/df_2021-01-01.csv\")\n",
    "def test_data_processor_shape():   \n",
    "    assert df_klima.shape[0] > 0\n",
    "    assert df_klima.shape[1] > 0\n",
    "    assert df_soukr.shape[0] > 0\n",
    "    assert df_soukr.shape[1] > 0\n",
    "\n",
    "def test_data_processor_NAs(): \n",
    "    assert df_klima[\"kod_obec\"].isna().sum() < 5\n",
    "    assert df_soukr[\"kod_obec\"].isna().sum() < 5\n",
    "    assert df.loc[:,['Maximální teplota (°C)', 'Minimální teplota (°C)', 'Náraz větru (km/h)', 'Srážky (mm)', 'Sněhová pokrývka (cm)',\n",
    "            'Sluneční svit (hod)','Nejvyšší tlak (hPa)', 'Nejvyšší vlhkost (%)']].isna().sum().sum() < 5\n"
   ]
  },
  {
   "cell_type": "code",
   "execution_count": null,
   "metadata": {},
   "outputs": [],
   "source": []
  }
 ],
 "metadata": {
  "interpreter": {
   "hash": "8dbbfaeff6118be6462b6d0deca908399fcb85ced3356986c5b55d8b9bf61ebb"
  },
  "kernelspec": {
   "display_name": "Python 3.8.5 64-bit ('__semestralka__': venv)",
   "language": "python",
   "name": "python3"
  },
  "language_info": {
   "codemirror_mode": {
    "name": "ipython",
    "version": 3
   },
   "file_extension": ".py",
   "mimetype": "text/x-python",
   "name": "python",
   "nbconvert_exporter": "python",
   "pygments_lexer": "ipython3",
   "version": "3.8.5"
  },
  "orig_nbformat": 4
 },
 "nbformat": 4,
 "nbformat_minor": 2
}
